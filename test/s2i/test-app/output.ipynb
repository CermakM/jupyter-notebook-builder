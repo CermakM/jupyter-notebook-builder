{
 "cells": [
  {
   "cell_type": "markdown",
   "metadata": {
    "papermill": {
     "duration": 0.018557,
     "end_time": "2019-11-24T11:11:41.167316",
     "exception": false,
     "start_time": "2019-11-24T11:11:41.148759",
     "status": "completed"
    },
    "tags": [],
    "toc": true
   },
   "source": [
    "<h1>Table of Contents<span class=\"tocSkip\"></span></h1>\n",
    "<div class=\"toc\"><ul class=\"toc-item\"><li><span><a href=\"#Parameters\" data-toc-modified-id=\"Parameters-1\"><span class=\"toc-item-num\">1&nbsp;&nbsp;</span>Parameters</a></span><ul class=\"toc-item\"><li><span><a href=\"#Jupyter-Notebook-Builder\" data-toc-modified-id=\"Jupyter-Notebook-Builder-1.1\"><span class=\"toc-item-num\">1.1&nbsp;&nbsp;</span>Jupyter Notebook Builder</a></span></li></ul></li></ul></div>"
   ]
  },
  {
   "cell_type": "code",
   "execution_count": 1,
   "metadata": {
    "ExecuteTime": {
     "end_time": "2019-11-24T07:49:11.341945Z",
     "start_time": "2019-11-24T07:49:11.334458Z"
    },
    "jupyter": {
     "source_hidden": true
    },
    "papermill": {
     "duration": 0.024571,
     "end_time": "2019-11-24T11:11:41.204313",
     "exception": false,
     "start_time": "2019-11-24T11:11:41.179742",
     "status": "completed"
    },
    "tags": []
   },
   "outputs": [],
   "source": [
    "from pathlib import Path"
   ]
  },
  {
   "cell_type": "markdown",
   "metadata": {
    "papermill": {
     "duration": 0.011107,
     "end_time": "2019-11-24T11:11:41.225467",
     "exception": false,
     "start_time": "2019-11-24T11:11:41.214360",
     "status": "completed"
    },
    "tags": []
   },
   "source": [
    "---"
   ]
  },
  {
   "cell_type": "markdown",
   "metadata": {
    "papermill": {
     "duration": 0.011253,
     "end_time": "2019-11-24T11:11:41.248333",
     "exception": false,
     "start_time": "2019-11-24T11:11:41.237080",
     "status": "completed"
    },
    "tags": []
   },
   "source": [
    "## Parameters\n",
    "\n",
    "### Jupyter Notebook Builder\n",
    "\n",
    "- @param `model_dir`: str, path to a directory with models"
   ]
  },
  {
   "cell_type": "code",
   "execution_count": 2,
   "metadata": {
    "ExecuteTime": {
     "end_time": "2019-11-24T07:52:35.750958Z",
     "start_time": "2019-11-24T07:52:35.729533Z"
    },
    "jupyter": {
     "source_hidden": true
    },
    "papermill": {
     "duration": 0.017091,
     "end_time": "2019-11-24T11:11:41.275487",
     "exception": false,
     "start_time": "2019-11-24T11:11:41.258396",
     "status": "completed"
    },
    "tags": [
     "parameters"
    ]
   },
   "outputs": [],
   "source": [
    "model_dir = \"./models\""
   ]
  },
  {
   "cell_type": "code",
   "execution_count": 3,
   "metadata": {
    "jupyter": {
     "source_hidden": true
    },
    "papermill": {
     "duration": 0.022553,
     "end_time": "2019-11-24T11:11:41.309780",
     "exception": false,
     "start_time": "2019-11-24T11:11:41.287227",
     "status": "completed"
    },
    "tags": [
     "injected-parameters"
    ]
   },
   "outputs": [],
   "source": [
    "# Parameters\n",
    "model_dir = \"/tmp/models\"\n"
   ]
  },
  {
   "cell_type": "markdown",
   "metadata": {
    "papermill": {
     "duration": 0.015478,
     "end_time": "2019-11-24T11:11:41.336987",
     "exception": false,
     "start_time": "2019-11-24T11:11:41.321509",
     "status": "completed"
    },
    "tags": []
   },
   "source": [
    "---"
   ]
  },
  {
   "cell_type": "code",
   "execution_count": 4,
   "metadata": {
    "ExecuteTime": {
     "end_time": "2019-11-24T07:58:50.111145Z",
     "start_time": "2019-11-24T07:58:49.956790Z"
    },
    "jupyter": {
     "source_hidden": true
    },
    "papermill": {
     "duration": 0.040544,
     "end_time": "2019-11-24T11:11:41.391541",
     "exception": false,
     "start_time": "2019-11-24T11:11:41.350997",
     "status": "completed"
    },
    "tags": []
   },
   "outputs": [
    {
     "data": {
      "text/plain": [
       "4"
      ]
     },
     "execution_count": 4,
     "metadata": {},
     "output_type": "execute_result"
    }
   ],
   "source": [
    "output_file = Path(model_dir) / \"output\"\n",
    "\n",
    "Path(output_file).write_text(\"Test\")"
   ]
  },
  {
   "cell_type": "code",
   "execution_count": 5,
   "metadata": {
    "ExecuteTime": {
     "end_time": "2019-11-24T08:01:59.997512Z",
     "start_time": "2019-11-24T08:01:59.849496Z"
    },
    "jupyter": {
     "source_hidden": true
    },
    "papermill": {
     "duration": 0.47428,
     "end_time": "2019-11-24T11:11:41.879285",
     "exception": false,
     "start_time": "2019-11-24T11:11:41.405005",
     "status": "completed"
    },
    "tags": []
   },
   "outputs": [
    {
     "name": "stdout",
     "output_type": "stream",
     "text": [
      "Test"
     ]
    }
   ],
   "source": [
    "!cat $output_file"
   ]
  }
 ],
 "metadata": {
  "celltoolbar": "Tags",
  "finalized": {
   "timestamp": 1572078405535,
   "trusted": true
  },
  "hide_input": false,
  "kernelspec": {
   "display_name": "python3",
   "language": "python",
   "name": "python3"
  },
  "language_info": {
   "codemirror_mode": {
    "name": "ipython",
    "version": 3
   },
   "file_extension": ".py",
   "mimetype": "text/x-python",
   "name": "python",
   "nbconvert_exporter": "python",
   "pygments_lexer": "ipython3",
   "version": "3.6.8"
  },
  "papermill": {
   "duration": 2.018501,
   "end_time": "2019-11-24T11:11:42.214543",
   "environment_variables": {},
   "exception": null,
   "input_path": "test-notebook.ipynb",
   "output_path": "./output.ipynb",
   "parameters": {
    "model_dir": "/tmp/models"
   },
   "start_time": "2019-11-24T11:11:40.196042",
   "version": "1.2.1"
  },
  "requirements": {
   "aliases": {},
   "dev-packages": {
    "autopep8": "*"
   },
   "packages": {
    "flask": "*"
   },
   "requires": {
    "python_version": "3.6"
   },
   "sources": [
    {
     "name": "pypi",
     "url": "https://pypi.org/simple",
     "verify_ssl": true
    }
   ]
  },
  "toc": {
   "base_numbering": 1,
   "nav_menu": {},
   "number_sections": true,
   "sideBar": true,
   "skip_h1_title": true,
   "title_cell": "Table of Contents",
   "title_sidebar": "Contents",
   "toc_cell": true,
   "toc_position": {},
   "toc_section_display": true,
   "toc_window_display": false
  }
 },
 "nbformat": 4,
 "nbformat_minor": 2
}